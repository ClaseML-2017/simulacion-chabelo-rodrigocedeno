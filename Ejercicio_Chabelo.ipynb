{
 "cells": [
  {
   "cell_type": "code",
   "execution_count": 120,
   "metadata": {},
   "outputs": [],
   "source": [
    "import random as rand\n",
    "import numpy as np\n",
    "\n",
    "doors = [1, 2, 3]\n",
    "\n",
    "prize = rand.choice(doors)\n",
    "contestant = rand.choice(doors)\n",
    "if prize == contestant:\n",
    "    doors.remove(prize)\n",
    "    chabelo = rand.choice(doors)\n",
    "elif prize != contestant:\n",
    "    doors.remove(prize)\n",
    "    doors.remove(contestant)\n",
    "    chabelo = doors[0]\n",
    "\n",
    "test = np.array([[\"Prize     \", prize], [\"Contestant\", contestant], [\"Chabelo   \", chabelo]])\n"
   ]
  },
  {
   "cell_type": "code",
   "execution_count": 121,
   "metadata": {
    "scrolled": true
   },
   "outputs": [
    {
     "name": "stdout",
     "output_type": "stream",
     "text": [
      "[['Prize     ' '1']\n",
      " ['Contestant' '3']\n",
      " ['Chabelo   ' '2']]\n"
     ]
    }
   ],
   "source": [
    "print test"
   ]
  },
  {
   "cell_type": "code",
   "execution_count": null,
   "metadata": {
    "collapsed": true
   },
   "outputs": [],
   "source": []
  },
  {
   "cell_type": "code",
   "execution_count": null,
   "metadata": {
    "collapsed": true
   },
   "outputs": [],
   "source": []
  }
 ],
 "metadata": {
  "kernelspec": {
   "display_name": "Python 2",
   "language": "python",
   "name": "python2"
  },
  "language_info": {
   "codemirror_mode": {
    "name": "ipython",
    "version": 2
   },
   "file_extension": ".py",
   "mimetype": "text/x-python",
   "name": "python",
   "nbconvert_exporter": "python",
   "pygments_lexer": "ipython2",
   "version": "2.7.13"
  }
 },
 "nbformat": 4,
 "nbformat_minor": 2
}
